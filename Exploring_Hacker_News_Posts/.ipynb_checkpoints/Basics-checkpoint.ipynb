{
 "cells": [
  {
   "cell_type": "markdown",
   "metadata": {
    "collapsed": true
   },
   "source": [
    "# Exploring Hacker News Ask HN and Show HN posts"
   ]
  },
  {
   "cell_type": "markdown",
   "metadata": {},
   "source": [
    "### I will be playing around with the Hacker News posts database and specifically comparing Ask HN and Show HN. By doing that I want to determine which gets more comments on average and if posts that are created at certain times get more comments on average."
   ]
  },
  {
   "cell_type": "code",
   "execution_count": 1,
   "metadata": {},
   "outputs": [],
   "source": [
    "#Reading in the database\n",
    "from csv import reader\n",
    "opened_file = open('hacker_news.csv')\n",
    "read_file = reader(opened_file)\n",
    "hn = list(read_file)"
   ]
  },
  {
   "cell_type": "markdown",
   "metadata": {},
   "source": [
    "### id: The unique identifier from Hacker News for the post\n",
    "### title: The title of the post\n",
    "### url: The URL that the posts links to, if the post has a URL\n",
    "### num_points: The number of points the post acquired, calculated as the total number of upvotes minus the total number of downvotes\n",
    "### num_comments: The number of comments that were made on the post\n",
    "### author: The username of the person who submitted the post\n",
    "### created_at: The date and time at which the post was submitted"
   ]
  },
  {
   "cell_type": "code",
   "execution_count": 5,
   "metadata": {},
   "outputs": [
    {
     "name": "stdout",
     "output_type": "stream",
     "text": [
      "['id', 'title', 'url', 'num_points', 'num_comments', 'author', 'created_at'] \n",
      "\n",
      "['12224879', 'Interactive Dynamic Video', 'http://www.interactivedynamicvideo.com/', '386', '52', 'ne0phyte', '8/4/2016 11:52'] \n",
      "\n",
      "['10975351', 'How to Use Open Source and Shut the Fuck Up at the Same Time', 'http://hueniverse.com/2016/01/26/how-to-use-open-source-and-shut-the-fuck-up-at-the-same-time/', '39', '10', 'josep2', '1/26/2016 19:30'] \n",
      "\n",
      "['11964716', \"Florida DJs May Face Felony for April Fools' Water Joke\", 'http://www.thewire.com/entertainment/2013/04/florida-djs-april-fools-water-joke/63798/', '2', '1', 'vezycash', '6/23/2016 22:20'] \n",
      "\n",
      "['11919867', 'Technology ventures: From Idea to Enterprise', 'https://www.amazon.com/Technology-Ventures-Enterprise-Thomas-Byers/dp/0073523429', '3', '1', 'hswarna', '6/17/2016 0:01'] \n",
      "\n"
     ]
    }
   ],
   "source": [
    "for x in hn[:5]:\n",
    "    print('{} \\n'.format(x))\n"
   ]
  },
  {
   "cell_type": "code",
   "execution_count": 6,
   "metadata": {},
   "outputs": [
    {
     "name": "stdout",
     "output_type": "stream",
     "text": [
      "['12224879', 'Interactive Dynamic Video', 'http://www.interactivedynamicvideo.com/', '386', '52', 'ne0phyte', '8/4/2016 11:52'] \n",
      "\n",
      "['10975351', 'How to Use Open Source and Shut the Fuck Up at the Same Time', 'http://hueniverse.com/2016/01/26/how-to-use-open-source-and-shut-the-fuck-up-at-the-same-time/', '39', '10', 'josep2', '1/26/2016 19:30'] \n",
      "\n",
      "['11964716', \"Florida DJs May Face Felony for April Fools' Water Joke\", 'http://www.thewire.com/entertainment/2013/04/florida-djs-april-fools-water-joke/63798/', '2', '1', 'vezycash', '6/23/2016 22:20'] \n",
      "\n",
      "['11919867', 'Technology ventures: From Idea to Enterprise', 'https://www.amazon.com/Technology-Ventures-Enterprise-Thomas-Byers/dp/0073523429', '3', '1', 'hswarna', '6/17/2016 0:01'] \n",
      "\n",
      "['10301696', 'Note by Note: The Making of Steinway L1037 (2007)', 'http://www.nytimes.com/2007/11/07/movies/07stein.html?_r=0', '8', '2', 'walterbell', '9/30/2015 4:12'] \n",
      "\n"
     ]
    }
   ],
   "source": [
    "#fetching out the headers and removing them from the dataset\n",
    "headers = hn[0]\n",
    "hn.pop(0)\n",
    "for x in hn[:5]:\n",
    "    print('{} \\n'.format(x))"
   ]
  },
  {
   "cell_type": "code",
   "execution_count": 17,
   "metadata": {},
   "outputs": [
    {
     "name": "stdout",
     "output_type": "stream",
     "text": [
      "There are a total of 20100 posts in our database\n",
      "There are a total of 1744 Ask HN posts\n",
      "There are a total of 1162 Show HN posts\n",
      "There are a total of 17194 other posts\n"
     ]
    }
   ],
   "source": [
    "#Separating out different types of posts\n",
    "ask_posts = []\n",
    "show_posts = []\n",
    "other_posts = []\n",
    "\n",
    "#Using lower so we can use startswith next to get all the posts sorted\n",
    "for row in hn:\n",
    "    title = row[1].lower()\n",
    "    if title.startswith(\"ask hn\"):\n",
    "        ask_posts.append(row)\n",
    "    elif title.startswith(\"show hn\"):\n",
    "        show_posts.append(row)\n",
    "    else:\n",
    "        other_posts.append(row)\n",
    "\n",
    "#Checking out how many posts each type has\n",
    "print('There are a total of {amount} posts in our database'.format(amount=len(hn)))\n",
    "print(\"There are a total of {amount} Ask HN posts\".format(amount=len(ask_posts)))\n",
    "print(\"There are a total of {amount} Show HN posts\".format(amount=len(show_posts)))\n",
    "print(\"There are a total of {amount} other posts\".format(amount=len(other_posts)))"
   ]
  },
  {
   "cell_type": "markdown",
   "metadata": {},
   "source": [
    "### Now that we have separated the posts to different lists I will be determining if Ask HN or Show HN have more comments"
   ]
  },
  {
   "cell_type": "code",
   "execution_count": 23,
   "metadata": {},
   "outputs": [
    {
     "name": "stdout",
     "output_type": "stream",
     "text": [
      "On average Ask HN get 14.04 comments on each post\n",
      "On average Show HN get 10.32 comments on each post\n",
      "On average Ask HN gets 3.72 more comments on each post than Show HN\n"
     ]
    }
   ],
   "source": [
    "total_ask_comments = 0\n",
    "\n",
    "for row in ask_posts:\n",
    "    num_comments = int(row[4])\n",
    "    total_ask_comments += num_comments\n",
    "\n",
    "avg_ask_comments = total_ask_comments / len(ask_posts)\n",
    "\n",
    "total_show_comments = 0\n",
    "for row in show_posts:\n",
    "    num_comments = int(row[4])\n",
    "    total_show_comments += num_comments\n",
    "\n",
    "avg_show_comments = total_show_comments / len(show_posts)\n",
    "\n",
    "print(\"On average Ask HN get {:.2f} comments on each post\".format(avg_ask_comments))\n",
    "print(\"On average Show HN get {:.2f} comments on each post\".format(avg_show_comments))\n",
    "\n",
    "if avg_ask_comments > avg_show_comments:\n",
    "    difference = avg_ask_comments - avg_show_comments\n",
    "    print(\"On average Ask HN gets {difference:.2f} more comments on each post than Show HN\".format(difference=difference))\n",
    "    \n",
    "else:\n",
    "    difference = avg_show_comments - avg_ask_comments\n",
    "    print(\"On average Show HN gets {difference:.2f} more comments on each post than Ask HN\".format(difference=difference))"
   ]
  },
  {
   "cell_type": "markdown",
   "metadata": {},
   "source": [
    "### As we can see from the above cell Ask HN gets 3.72 more comments on each post than Show HN and that was predicted as Ask HN posts are the type of posts where people ask for advice or help (few examples down below). Where as Show HN people show something they have discovered (few examples down below) or want to share some advice/tips. Therefore if someone posts an ask type of post they tend to get more comments as it is aimed at people to give advice and answer to the post."
   ]
  },
  {
   "cell_type": "code",
   "execution_count": 26,
   "metadata": {},
   "outputs": [
    {
     "name": "stdout",
     "output_type": "stream",
     "text": [
      "Ask HN: How to improve my personal website?\n",
      "Ask HN: Am I the only one outraged by Twitter shutting down share counts?\n",
      "Ask HN: Aby recent changes to CSS that broke mobile?\n",
      "Ask HN: Looking for Employee #3 How do I do it?\n",
      "Ask HN: Someone offered to buy my browser extension from me. What now?\n"
     ]
    }
   ],
   "source": [
    "for x in ask_posts[:5]:\n",
    "    print(x[1])"
   ]
  },
  {
   "cell_type": "code",
   "execution_count": 25,
   "metadata": {},
   "outputs": [
    {
     "name": "stdout",
     "output_type": "stream",
     "text": [
      "Show HN: Wio Link  ESP8266 Based Web of Things Hardware Development Platform\n",
      "Show HN: Something pointless I made\n",
      "Show HN: Shanhu.io, a programming playground powered by e8vm\n",
      "Show HN: Webscope  Easy way for web developers to communicate with Clients\n"
     ]
    }
   ],
   "source": [
    "for x in show_posts[:5]:\n",
    "    print(x[1])"
   ]
  },
  {
   "cell_type": "markdown",
   "metadata": {},
   "source": [
    "### I will now direct my focus more towards Ask HN posts to find out if there is correlation between more comments and the time the posts were made."
   ]
  },
  {
   "cell_type": "code",
   "execution_count": 40,
   "metadata": {},
   "outputs": [
    {
     "ename": "AttributeError",
     "evalue": "'int' object has no attribute 'strftime'",
     "output_type": "error",
     "traceback": [
      "\u001b[0;31m---------------------------------------------------------------------------\u001b[0m",
      "\u001b[0;31mAttributeError\u001b[0m                            Traceback (most recent call last)",
      "\u001b[0;32m<ipython-input-40-6ae65bd2eb61>\u001b[0m in \u001b[0;36m<module>\u001b[0;34m\u001b[0m\n\u001b[1;32m     17\u001b[0m     \u001b[0mcreated_at_hour_dt\u001b[0m \u001b[0;34m=\u001b[0m \u001b[0mcreated_at_dt\u001b[0m\u001b[0;34m.\u001b[0m\u001b[0mhour\u001b[0m\u001b[0;34m\u001b[0m\u001b[0;34m\u001b[0m\u001b[0m\n\u001b[1;32m     18\u001b[0m \u001b[0;34m\u001b[0m\u001b[0m\n\u001b[0;32m---> 19\u001b[0;31m     \u001b[0mprint\u001b[0m\u001b[0;34m(\u001b[0m\u001b[0mcreated_at_hour_dt\u001b[0m\u001b[0;34m.\u001b[0m\u001b[0mstrftime\u001b[0m\u001b[0;34m(\u001b[0m\u001b[0;34m\"%H\"\u001b[0m\u001b[0;34m)\u001b[0m\u001b[0;34m)\u001b[0m\u001b[0;34m\u001b[0m\u001b[0;34m\u001b[0m\u001b[0m\n\u001b[0m\u001b[1;32m     20\u001b[0m \u001b[0;34m\u001b[0m\u001b[0m\n",
      "\u001b[0;31mAttributeError\u001b[0m: 'int' object has no attribute 'strftime'"
     ]
    }
   ],
   "source": [
    "import datetime as dt\n",
    "\n",
    "result_list = []\n",
    "\n",
    "#Adding the time the post was created and the number of comments of each post to result_list\n",
    "for row in ask_posts:\n",
    "    temp_list = [row[6], int(row[4])]\n",
    "    result_list.append(temp_list)\n",
    "    \n",
    "counts_by_hour = {}\n",
    "comments_by_hour = {}\n",
    "#8/4/2016 11:52\n",
    "\n",
    "date_format = \"%m/%d/%Y %H:%M\"\n",
    "for row in result_list[:5]:\n",
    "    created_at_dt = dt.datetime.strptime(row[0], date_format)\n",
    "    created_at_hour_dt = created_at_dt.hour\n",
    "\n",
    "    print(created_at_hour_dt.strftime(\"%H\"))\n",
    "    "
   ]
  },
  {
   "cell_type": "code",
   "execution_count": null,
   "metadata": {},
   "outputs": [],
   "source": []
  }
 ],
 "metadata": {
  "kernelspec": {
   "display_name": "Python 3",
   "language": "python",
   "name": "python3"
  },
  "language_info": {
   "codemirror_mode": {
    "name": "ipython",
    "version": 3
   },
   "file_extension": ".py",
   "mimetype": "text/x-python",
   "name": "python",
   "nbconvert_exporter": "python",
   "pygments_lexer": "ipython3",
   "version": "3.8.2"
  }
 },
 "nbformat": 4,
 "nbformat_minor": 2
}
