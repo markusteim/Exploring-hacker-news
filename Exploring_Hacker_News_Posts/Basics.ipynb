{
 "cells": [
  {
   "cell_type": "markdown",
   "metadata": {
    "collapsed": true
   },
   "source": [
    "# Exploring Hacker News Ask HN and Show HN posts"
   ]
  },
  {
   "cell_type": "markdown",
   "metadata": {
    "collapsed": false
   },
   "source": [
    "### I will be playing around with the Hacker News posts database and specifically comparing Ask HN and Show HN. By doing that I want to determine which gets more comments on average and if posts that are created at certain times get more comments on average."
   ]
  },
  {
   "cell_type": "code",
   "execution_count": 159,
   "metadata": {
    "collapsed": false
   },
   "outputs": [
   ],
   "source": [
    "#Reading in the database\n",
    "from csv import reader\n",
    "opened_file = open('hacker_news.csv')\n",
    "read_file = reader(opened_file)\n",
    "hn = list(read_file)"
   ]
  },
  {
   "cell_type": "markdown",
   "metadata": {
    "collapsed": false
   },
   "source": [
    "### id: The unique identifier from Hacker News for the post\n",
    "### title: The title of the post\n",
    "### url: The URL that the posts links to, if the post has a URL\n",
    "### num_points: The number of points the post acquired, calculated as the total number of upvotes minus the total number of downvotes\n",
    "### num_comments: The number of comments that were made on the post\n",
    "### author: The username of the person who submitted the post\n",
    "### created_at: The date and time at which the post was submitted"
   ]
  },
  {
   "cell_type": "code",
   "execution_count": 160,
   "metadata": {
    "collapsed": false
   },
   "outputs": [
    {
     "name": "stdout",
     "output_type": "stream",
     "text": [
      "['id', 'title', 'url', 'num_points', 'num_comments', 'author', 'created_at'] \n",
      "\n",
      "['12224879', 'Interactive Dynamic Video', 'http://www.interactivedynamicvideo.com/', '386', '52', 'ne0phyte', '8/4/2016 11:52'] \n",
      "\n",
      "['10975351', 'How to Use Open Source and Shut the Fuck Up at the Same Time', 'http://hueniverse.com/2016/01/26/how-to-use-open-source-and-shut-the-fuck-up-at-the-same-time/', '39', '10', 'josep2', '1/26/2016 19:30'] \n",
      "\n",
      "['11964716', \"Florida DJs May Face Felony for April Fools' Water Joke\", 'http://www.thewire.com/entertainment/2013/04/florida-djs-april-fools-water-joke/63798/', '2', '1', 'vezycash', '6/23/2016 22:20'] \n",
      "\n",
      "['11919867', 'Technology ventures: From Idea to Enterprise', 'https://www.amazon.com/Technology-Ventures-Enterprise-Thomas-Byers/dp/0073523429', '3', '1', 'hswarna', '6/17/2016 0:01'] \n",
      "\n"
     ]
    }
   ],
   "source": [
    "for x in hn[:5]:\n",
    "    print('{} \\n'.format(x))\n"
   ]
  },
  {
   "cell_type": "code",
   "execution_count": 161,
   "metadata": {
    "collapsed": false
   },
   "outputs": [
    {
     "name": "stdout",
     "output_type": "stream",
     "text": [
      "['12224879', 'Interactive Dynamic Video', 'http://www.interactivedynamicvideo.com/', '386', '52', 'ne0phyte', '8/4/2016 11:52'] \n",
      "\n",
      "['10975351', 'How to Use Open Source and Shut the Fuck Up at the Same Time', 'http://hueniverse.com/2016/01/26/how-to-use-open-source-and-shut-the-fuck-up-at-the-same-time/', '39', '10', 'josep2', '1/26/2016 19:30'] \n",
      "\n",
      "['11964716', \"Florida DJs May Face Felony for April Fools' Water Joke\", 'http://www.thewire.com/entertainment/2013/04/florida-djs-april-fools-water-joke/63798/', '2', '1', 'vezycash', '6/23/2016 22:20'] \n",
      "\n",
      "['11919867', 'Technology ventures: From Idea to Enterprise', 'https://www.amazon.com/Technology-Ventures-Enterprise-Thomas-Byers/dp/0073523429', '3', '1', 'hswarna', '6/17/2016 0:01'] \n",
      "\n",
      "['10301696', 'Note by Note: The Making of Steinway L1037 (2007)', 'http://www.nytimes.com/2007/11/07/movies/07stein.html?_r=0', '8', '2', 'walterbell', '9/30/2015 4:12'] \n",
      "\n"
     ]
    }
   ],
   "source": [
    "#fetching out the headers and removing them from the dataset\n",
    "headers = hn[0]\n",
    "hn.pop(0)\n",
    "for x in hn[:5]:\n",
    "    print('{} \\n'.format(x))"
   ]
  },
  {
   "cell_type": "code",
   "execution_count": 162,
   "metadata": {
    "collapsed": false
   },
   "outputs": [
    {
     "name": "stdout",
     "output_type": "stream",
     "text": [
      "There are a total of 20100 posts in our database\n",
      "There are a total of 1744 Ask HN posts\n",
      "There are a total of 1162 Show HN posts\n",
      "There are a total of 17194 other posts\n"
     ]
    }
   ],
   "source": [
    "#Separating out different types of posts\n",
    "ask_posts = []\n",
    "show_posts = []\n",
    "other_posts = []\n",
    "\n",
    "#Using lower so we can use startswith next to get all the posts sorted\n",
    "for row in hn:\n",
    "    title = row[1].lower()\n",
    "    if title.startswith(\"ask hn\"):\n",
    "        ask_posts.append(row)\n",
    "    elif title.startswith(\"show hn\"):\n",
    "        show_posts.append(row)\n",
    "    else:\n",
    "        other_posts.append(row)\n",
    "\n",
    "#Checking out how many posts each type has\n",
    "print('There are a total of {amount} posts in our database'.format(amount=len(hn)))\n",
    "print(\"There are a total of {amount} Ask HN posts\".format(amount=len(ask_posts)))\n",
    "print(\"There are a total of {amount} Show HN posts\".format(amount=len(show_posts)))\n",
    "print(\"There are a total of {amount} other posts\".format(amount=len(other_posts)))"
   ]
  },
  {
   "cell_type": "markdown",
   "metadata": {
    "collapsed": false
   },
   "source": [
    "### Now that we have separated the posts to different lists I will be determining if Ask HN or Show HN have more comments"
   ]
  },
  {
   "cell_type": "code",
   "execution_count": 163,
   "metadata": {
    "collapsed": false
   },
   "outputs": [
    {
     "name": "stdout",
     "output_type": "stream",
     "text": [
      "On average Ask HN get 14.04 comments on each post\n",
      "On average Show HN get 10.32 comments on each post\n",
      "On average Ask HN gets 3.72 more comments on each post than Show HN\n"
     ]
    }
   ],
   "source": [
    "total_ask_comments = 0\n",
    "\n",
    "for row in ask_posts:\n",
    "    num_comments = int(row[4])\n",
    "    total_ask_comments += num_comments\n",
    "\n",
    "avg_ask_comments = total_ask_comments / len(ask_posts)\n",
    "\n",
    "total_show_comments = 0\n",
    "for row in show_posts:\n",
    "    num_comments = int(row[4])\n",
    "    total_show_comments += num_comments\n",
    "\n",
    "avg_show_comments = total_show_comments / len(show_posts)\n",
    "\n",
    "print(\"On average Ask HN get {:.2f} comments on each post\".format(avg_ask_comments))\n",
    "print(\"On average Show HN get {:.2f} comments on each post\".format(avg_show_comments))\n",
    "\n",
    "if avg_ask_comments > avg_show_comments:\n",
    "    difference = avg_ask_comments - avg_show_comments\n",
    "    print(\"On average Ask HN gets {difference:.2f} more comments on each post than Show HN\".format(difference=difference))\n",
    "    \n",
    "else:\n",
    "    difference = avg_show_comments - avg_ask_comments\n",
    "    print(\"On average Show HN gets {difference:.2f} more comments on each post than Ask HN\".format(difference=difference))"
   ]
  },
  {
   "cell_type": "markdown",
   "metadata": {
    "collapsed": false
   },
   "source": [
    "### As we can see from the above cell Ask HN gets 3.72 more comments on each post than Show HN and that was predicted as Ask HN posts are the type of posts where people ask for advice or help (few examples down below). Where as Show HN people show something they have discovered (few examples down below) or want to share some advice/tips. Therefore if someone posts an ask type of post they tend to get more comments as it is aimed at people to give advice and answer to the post."
   ]
  },
  {
   "cell_type": "code",
   "execution_count": 164,
   "metadata": {
    "collapsed": false
   },
   "outputs": [
    {
     "name": "stdout",
     "output_type": "stream",
     "text": [
      "Ask HN: How to improve my personal website?\n",
      "Ask HN: Am I the only one outraged by Twitter shutting down share counts?\n",
      "Ask HN: Aby recent changes to CSS that broke mobile?\n",
      "Ask HN: Looking for Employee #3 How do I do it?\n",
      "Ask HN: Someone offered to buy my browser extension from me. What now?\n"
     ]
    }
   ],
   "source": [
    "for x in ask_posts[:5]:\n",
    "    print(x[1])"
   ]
  },
  {
   "cell_type": "code",
   "execution_count": 165,
   "metadata": {
    "collapsed": false
   },
   "outputs": [
    {
     "name": "stdout",
     "output_type": "stream",
     "text": [
      "Show HN: Wio Link  ESP8266 Based Web of Things Hardware Development Platform\n",
      "Show HN: Something pointless I made\n",
      "Show HN: Shanhu.io, a programming playground powered by e8vm\n",
      "Show HN: Webscope  Easy way for web developers to communicate with Clients\n",
      "Show HN: GeoScreenshot  Easily test Geo-IP based web pages\n"
     ]
    }
   ],
   "source": [
    "for x in show_posts[:5]:\n",
    "    print(x[1])"
   ]
  },
  {
   "cell_type": "markdown",
   "metadata": {
    "collapsed": false
   },
   "source": [
    "### I will now direct my focus more towards Ask HN posts to find out if there is correlation between more comments and the time the posts were made."
   ]
  },
  {
   "cell_type": "code",
   "execution_count": 166,
   "metadata": {
    "collapsed": false
   },
   "outputs": [
    {
     "name": "stdout",
     "output_type": "stream",
     "text": [
      "{'09': 45, '13': 85, '10': 59, '14': 107, '16': 108, '23': 68, '12': 73, '17': 100, '15': 116, '21': 109, '20': 80, '02': 58, '18': 109, '03': 54, '05': 46, '19': 110, '01': 60, '22': 71, '08': 48, '04': 47, '00': 55, '06': 44, '07': 34, '11': 58}\n",
      "{'09': 251, '13': 1253, '10': 793, '14': 1416, '16': 1814, '23': 543, '12': 687, '17': 1146, '15': 4477, '21': 1745, '20': 1722, '02': 1381, '18': 1439, '03': 421, '05': 464, '19': 1188, '01': 683, '22': 479, '08': 492, '04': 337, '00': 447, '06': 397, '07': 267, '11': 641}\n"
     ]
    }
   ],
   "source": [
    "import datetime as dt\n",
    "\n",
    "result_list = []\n",
    "\n",
    "#Adding the time the post was created and the number of comments of each post to result_list\n",
    "for row in ask_posts:\n",
    "    temp_list = [row[6], int(row[4])]\n",
    "    result_list.append(temp_list)\n",
    "    \n",
    "    \n",
    "    \n",
    "    \n",
    "counts_by_hour = {} #contains the number of ask posts created during each hour of the day.\n",
    "comments_by_hour = {} #contains the corresponding number of comments ask posts created at each hour received.\n",
    "\n",
    "date_format = \"%m/%d/%Y %H:%M\"\n",
    "for row in result_list:\n",
    "    created_at_dt = dt.datetime.strptime(row[0], date_format)\n",
    "    created_at_hour_dt = created_at_dt.strftime(\"%H\")\n",
    "    \n",
    "    if created_at_hour_dt not in counts_by_hour:\n",
    "        counts_by_hour[created_at_hour_dt] = 1\n",
    "        comments_by_hour[created_at_hour_dt] = row[1]\n",
    "    else:\n",
    "        counts_by_hour[created_at_hour_dt] += 1\n",
    "        comments_by_hour[created_at_hour_dt] += row[1]\n",
    "    \n",
    "print(counts_by_hour)\n",
    "print(comments_by_hour)"
   ]
  },
  {
   "cell_type": "code",
   "execution_count": 167,
   "metadata": {
    "collapsed": false
   },
   "outputs": [
    {
     "name": "stdout",
     "output_type": "stream",
     "text": [
      "['09', 5.5777777777777775]\n",
      "['13', 14.741176470588234]\n",
      "['10', 13.440677966101696]\n",
      "['14', 13.233644859813085]\n",
      "['16', 16.796296296296298]\n",
      "['23', 7.985294117647059]\n",
      "['12', 9.41095890410959]\n",
      "['17', 11.46]\n",
      "['15', 38.5948275862069]\n",
      "['21', 16.009174311926607]\n",
      "['20', 21.525]\n",
      "['02', 23.810344827586206]\n",
      "['18', 13.20183486238532]\n",
      "['03', 7.796296296296297]\n",
      "['05', 10.08695652173913]\n",
      "['19', 10.8]\n",
      "['01', 11.383333333333333]\n",
      "['22', 6.746478873239437]\n",
      "['08', 10.25]\n",
      "['04', 7.170212765957447]\n",
      "['00', 8.127272727272727]\n",
      "['06', 9.022727272727273]\n",
      "['07', 7.852941176470588]\n",
      "['11', 11.051724137931034]\n"
     ]
    }
   ],
   "source": [
    "#Creating a new list that stores the hour and then the corresponding value which is the average number of comments per posts created\n",
    "avg_by_hour_list = []\n",
    "\n",
    "for value in counts_by_hour:\n",
    "    avg_by_hour = comments_by_hour[value]/ counts_by_hour[value]\n",
    "    avg_by_hour_list.append([value, avg_by_hour])\n",
    "\n",
    "for x in avg_by_hour_list:\n",
    "    print(x)"
   ]
  },
  {
   "cell_type": "code",
   "execution_count": 168,
   "metadata": {
    "collapsed": false
   },
   "outputs": [
    {
     "name": "stdout",
     "output_type": "stream",
     "text": [
      "[[5.5777777777777775, '09'], [14.741176470588234, '13'], [13.440677966101696, '10'], [13.233644859813085, '14'], [16.796296296296298, '16'], [7.985294117647059, '23'], [9.41095890410959, '12'], [11.46, '17'], [38.5948275862069, '15'], [16.009174311926607, '21'], [21.525, '20'], [23.810344827586206, '02'], [13.20183486238532, '18'], [7.796296296296297, '03'], [10.08695652173913, '05'], [10.8, '19'], [11.383333333333333, '01'], [6.746478873239437, '22'], [10.25, '08'], [7.170212765957447, '04'], [8.127272727272727, '00'], [9.022727272727273, '06'], [7.852941176470588, '07'], [11.051724137931034, '11']]\n"
     ]
    }
   ],
   "source": [
    "swap_avg_by_hour_list = []\n",
    "\n",
    "for x in avg_by_hour_list:\n",
    "    swap_avg_by_hour_list.append([x[1], x[0]])\n",
    "    \n",
    "print(swap_avg_by_hour_list)"
   ]
  },
  {
   "cell_type": "code",
   "execution_count": 169,
   "metadata": {
    "collapsed": false
   },
   "outputs": [
    {
     "name": "stdout",
     "output_type": "stream",
     "text": [
      "Top 5 Hours for Ask Posts Comments : \n",
      "1900-01-01 15:00:00: 38.59 average comments per post\n",
      "1900-01-01 02:00:00: 23.81 average comments per post\n",
      "1900-01-01 20:00:00: 21.52 average comments per post\n",
      "1900-01-01 16:00:00: 16.80 average comments per post\n",
      "1900-01-01 21:00:00: 16.01 average comments per post\n"
     ]
    }
   ],
   "source": [
    "#Sorting the swapped list\n",
    "\n",
    "sorted_swap = sorted(swap_avg_by_hour_list, reverse=True)\n",
    "\n",
    "print(\"Top 5 Hours for Ask Posts Comments : \")\n",
    "\n",
    "for x in sorted_swap[:5]:\n",
    "    houred = dt.datetime.strptime(x[1], \"%H\")\n",
    "    print(\"{hour}: {avg:.2f} average comments per post\".format(hour=houred,avg=x[0]))"
   ]
  },
  {
   "cell_type": "markdown",
   "metadata": {
    "collapsed": false
   },
   "source": [
    "### The timezone they used was Eastern Time in the US, as we are in a different one and might travel around I will set it up so that you can insert your own timezone and it automatically translates it"
   ]
  },
  {
   "cell_type": "code",
   "execution_count": 173,
   "metadata": {
    "collapsed": false
   },
   "outputs": [
    {
     "name": "stdout",
     "output_type": "stream",
     "text": [
      "[[38.5948275862069, '05'], [23.810344827586206, '16'], [21.525, '10'], [16.796296296296298, '06'], [16.009174311926607, '11'], [14.741176470588234, '03'], [13.440677966101696, '00'], [13.233644859813085, '04'], [13.20183486238532, '08'], [11.46, '07'], [11.383333333333333, '15'], [11.051724137931034, '01'], [10.8, '09'], [10.25, '22'], [10.08695652173913, '19'], [9.41095890410959, '02'], [9.022727272727273, '20'], [8.127272727272727, '14'], [7.985294117647059, '13'], [7.852941176470588, '21'], [7.796296296296297, '17'], [7.170212765957447, '18'], [6.746478873239437, '12'], [5.5777777777777775, '23']]\n",
      "18\n"
     ]
    }
   ],
   "source": [
    "import pytz\n",
    "\n",
    "format = \"%H\"\n",
    "\n",
    "\n",
    "\n",
    "#list all timezones\n",
    "#all_timezones\n",
    "\n",
    "#I will make the current time to be Eastern Time in the US\n",
    "eastern = pytz.timezone('US/Eastern')\n",
    "eastern.zone\n",
    "\n",
    "#Set your timezone\n",
    "acific_tzinfo = pytz.timezone(\"Europe/Tallinn\")\n",
    "\n",
    "print(sorted_swap)\n",
    "\n",
    "for x in sorted_swap:\n",
    "    current_time = eastern.localize(dt.datetime(year=2016,month=1,day=1,hour=int(x[1])))\n",
    "    \n",
    "    new_time = current_time.astimezone(acific_tzinfo)\n",
    "    new_time = new_time.strftime('%H')\n",
    "    x[1] = new_time"
   ]
  },
  {
   "cell_type": "code",
   "execution_count": 176,
   "metadata": {
    "collapsed": false
   },
   "outputs": [
    {
     "name": "stdout",
     "output_type": "stream",
     "text": [
      "Top 5 Hours for Ask Posts Comments in Europe/Tallinn: \n",
      "12\n",
      "12: 38.59 average comments per post\n",
      "23\n",
      "23: 23.81 average comments per post\n",
      "17\n",
      "17: 21.52 average comments per post\n",
      "13\n",
      "13: 16.80 average comments per post\n",
      "18\n",
      "18: 16.01 average comments per post\n"
     ]
    }
   ],
   "source": [
    "#Sorting the swapped list\n",
    "\n",
    "sorted_swap = sorted(swap_avg_by_hour_list, reverse=True)\n",
    "\n",
    "print(\"Top 5 Hours for Ask Posts Comments in {tz}: \".format(tz=acific_tzinfo))\n",
    "\n",
    "for x in sorted_swap[:5]:\n",
    "    houred = dt.datetime.strptime(x[1], \"%H\")\n",
    "    houred = houred.strftime(\"%H: \")\n",
    "    print(\"{hour}: {avg:.2f} average comments per post\".format(hour=houred,avg=x[0]))"
   ]
  },
  {
   "cell_type": "markdown",
   "metadata": {
    "collapsed": false
   },
   "source": [
    "### We have now converted the times to our current timezone and can see that at 22:"
   ]
  }
 ],
 "metadata": {
  "kernelspec": {
   "display_name": "Python 3 (system-wide)",
   "language": "python",
   "metadata": {
    "cocalc": {
     "description": "Python 3 programming language",
     "priority": 100,
     "url": "https://www.python.org/"
    }
   },
   "name": "python3",
   "resource_dir": "/ext/jupyter/kernels/python3"
  },
  "language_info": {
   "codemirror_mode": {
    "name": "ipython",
    "version": 3
   },
   "file_extension": ".py",
   "mimetype": "text/x-python",
   "name": "python",
   "nbconvert_exporter": "python",
   "pygments_lexer": "ipython3",
   "version": "3.8.2"
  }
 },
 "nbformat": 4,
 "nbformat_minor": 4
}